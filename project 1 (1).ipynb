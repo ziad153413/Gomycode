{
 "cells": [
  {
   "cell_type": "code",
   "execution_count": 6,
   "id": "0d59dbc2",
   "metadata": {},
   "outputs": [
    {
     "name": "stdout",
     "output_type": "stream",
     "text": [
      "welcome to python world!lets start coding\n"
     ]
    }
   ],
   "source": [
    "print(\"welcome to python world!lets start coding\")"
   ]
  },
  {
   "cell_type": "code",
   "execution_count": null,
   "id": "c287d3ff",
   "metadata": {},
   "outputs": [],
   "source": []
  }
 ],
 "metadata": {
  "kernelspec": {
   "display_name": "Python 3 (ipykernel)",
   "language": "python",
   "name": "python3"
  },
  "language_info": {
   "codemirror_mode": {
    "name": "ipython",
    "version": 3
   },
   "file_extension": ".py",
   "mimetype": "text/x-python",
   "name": "python",
   "nbconvert_exporter": "python",
   "pygments_lexer": "ipython3",
   "version": "3.9.13"
  }
 },
 "nbformat": 4,
 "nbformat_minor": 5
}
